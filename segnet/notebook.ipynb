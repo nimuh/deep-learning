{
 "cells": [
  {
   "cell_type": "code",
   "execution_count": 224,
   "metadata": {},
   "outputs": [],
   "source": [
    "from torchvision.datasets import Cityscapes\n",
    "from torchvision import transforms\n",
    "from PIL import Image\n",
    "import numpy as np\n",
    "import torch\n",
    "import collections"
   ]
  },
  {
   "cell_type": "code",
   "execution_count": 254,
   "metadata": {},
   "outputs": [
    {
     "data": {
      "text/plain": [
       "(1, 2, 3)"
      ]
     },
     "execution_count": 254,
     "metadata": {},
     "output_type": "execute_result"
    }
   ],
   "source": [
    "tuple((1, 2, 3))"
   ]
  },
  {
   "cell_type": "code",
   "execution_count": 266,
   "metadata": {},
   "outputs": [
    {
     "ename": "TypeError",
     "evalue": "unhashable type: 'list'",
     "output_type": "error",
     "traceback": [
      "\u001b[0;31m---------------------------------------------------------------------------\u001b[0m",
      "\u001b[0;31mTypeError\u001b[0m                                 Traceback (most recent call last)",
      "\u001b[0;32m<ipython-input-266-8f4d9ff29333>\u001b[0m in \u001b[0;36m<module>\u001b[0;34m\u001b[0m\n\u001b[1;32m      4\u001b[0m                \u001b[0;34m[\u001b[0m\u001b[0;36m250\u001b[0m\u001b[0;34m,\u001b[0m \u001b[0;36m170\u001b[0m\u001b[0;34m,\u001b[0m \u001b[0;36m30\u001b[0m\u001b[0;34m]\u001b[0m\u001b[0;34m:\u001b[0m \u001b[0;36m19\u001b[0m\u001b[0;34m,\u001b[0m\u001b[0;34m\u001b[0m\u001b[0;34m\u001b[0m\u001b[0m\n\u001b[1;32m      5\u001b[0m                \u001b[0;34m[\u001b[0m\u001b[0;36m220\u001b[0m\u001b[0;34m,\u001b[0m \u001b[0;36m20\u001b[0m\u001b[0;34m,\u001b[0m \u001b[0;36m60\u001b[0m\u001b[0;34m]\u001b[0m\u001b[0;34m:\u001b[0m  \u001b[0;36m24\u001b[0m\u001b[0;34m,\u001b[0m\u001b[0;34m\u001b[0m\u001b[0;34m\u001b[0m\u001b[0m\n\u001b[0;32m----> 6\u001b[0;31m                \u001b[0;34m[\u001b[0m\u001b[0;36m0\u001b[0m\u001b[0;34m,\u001b[0m \u001b[0;36m0\u001b[0m\u001b[0;34m,\u001b[0m \u001b[0;36m142\u001b[0m\u001b[0;34m]\u001b[0m\u001b[0;34m:\u001b[0m    \u001b[0;36m26\u001b[0m\u001b[0;34m,\u001b[0m\u001b[0;34m\u001b[0m\u001b[0;34m\u001b[0m\u001b[0m\n\u001b[0m\u001b[1;32m      7\u001b[0m               }\n",
      "\u001b[0;31mTypeError\u001b[0m: unhashable type: 'list'"
     ]
    }
   ],
   "source": [
    "color2label = {(0, 0, 0):      0,\n",
    "               (128, 64, 128): 7,\n",
    "               (244, 35, 232): 8,\n",
    "               (250, 170, 30): 19,\n",
    "               (220, 20, 60):  24,\n",
    "               (0, 0, 142):    26,\n",
    "              }\n"
   ]
  },
  {
   "cell_type": "code",
   "execution_count": 232,
   "metadata": {},
   "outputs": [
    {
     "name": "stdout",
     "output_type": "stream",
     "text": [
      "nope\n"
     ]
    }
   ],
   "source": [
    "try:\n",
    "    color2label[(1, 2, 3)]\n",
    "except:\n",
    "    print('nope')"
   ]
  },
  {
   "cell_type": "code",
   "execution_count": 233,
   "metadata": {},
   "outputs": [],
   "source": [
    "in_t = transforms.Compose([\n",
    "        transforms.Resize((64, 64)),\n",
    "        transforms.ToTensor(),\n",
    "        ])\n",
    "\n",
    "out_t = transforms.Compose([\n",
    "            transforms.Resize((64, 64)),\n",
    "            transforms.functional.pil_to_tensor,\n",
    "            ])\n",
    "\n",
    "\n",
    "targets = ['color']\n",
    "data = Cityscapes(root='./data', \n",
    "                  target_type=targets, \n",
    "                  mode='fine', \n",
    "                  transform=in_t, \n",
    "                  target_transform=out_t,\n",
    "                 )"
   ]
  },
  {
   "cell_type": "code",
   "execution_count": 272,
   "metadata": {},
   "outputs": [],
   "source": [
    "s = data[0][1].numpy().reshape(64, 64, 4)[:, :, :3]\n",
    "\n",
    "label = np.zeros((64, 64))\n",
    "for i in range(64):\n",
    "    for j in range(64):\n",
    "        try:\n",
    "            label[i][j] = color2label[tuple(s[i][j])]\n",
    "        except:\n",
    "            label[i][j] = 0        \n",
    "        \n",
    "            "
   ]
  },
  {
   "cell_type": "code",
   "execution_count": 276,
   "metadata": {},
   "outputs": [
    {
     "data": {
      "text/plain": [
       "(3, 64, 64)"
      ]
     },
     "execution_count": 276,
     "metadata": {},
     "output_type": "execute_result"
    }
   ],
   "source": []
  },
  {
   "cell_type": "code",
   "execution_count": 153,
   "metadata": {},
   "outputs": [
    {
     "data": {
      "text/plain": [
       "torch.Size([64, 64, 3])"
      ]
     },
     "execution_count": 153,
     "metadata": {},
     "output_type": "execute_result"
    }
   ],
   "source": [
    "torch.Tensor(np.array(data[0][1])).to(torch.int64)[:, :, :3].size()"
   ]
  },
  {
   "cell_type": "code",
   "execution_count": 142,
   "metadata": {},
   "outputs": [
    {
     "data": {
      "text/plain": [
       "torch.Size([64, 64, 32005])"
      ]
     },
     "execution_count": 142,
     "metadata": {},
     "output_type": "execute_result"
    }
   ],
   "source": [
    "torch.nn.functional.one_hot(torch.Tensor(np.array(data[0][1])).to(torch.int64)).size()"
   ]
  },
  {
   "cell_type": "code",
   "execution_count": 105,
   "metadata": {},
   "outputs": [
    {
     "data": {
      "text/plain": [
       "tensor([[[0.1647, 0.1529, 0.1569,  ..., 0.4745, 0.4667, 0.6706],\n",
       "         [0.1608, 0.1686, 0.2157,  ..., 0.6980, 0.6824, 0.7216],\n",
       "         [0.2196, 0.2706, 0.3137,  ..., 0.6588, 0.6275, 0.6314],\n",
       "         ...,\n",
       "         [0.3294, 0.3333, 0.3412,  ..., 0.3137, 0.2941, 0.2941],\n",
       "         [0.3333, 0.3294, 0.3216,  ..., 0.3098, 0.3059, 0.2941],\n",
       "         [0.3412, 0.3176, 0.2941,  ..., 0.2902, 0.2941, 0.2863]],\n",
       "\n",
       "        [[0.2196, 0.2000, 0.2039,  ..., 0.3529, 0.3490, 0.6941],\n",
       "         [0.2118, 0.2157, 0.2706,  ..., 0.7137, 0.7059, 0.7922],\n",
       "         [0.2784, 0.3333, 0.3804,  ..., 0.7373, 0.7137, 0.7137],\n",
       "         ...,\n",
       "         [0.3922, 0.3961, 0.4039,  ..., 0.3686, 0.3529, 0.3529],\n",
       "         [0.4000, 0.3922, 0.3843,  ..., 0.3686, 0.3647, 0.3529],\n",
       "         [0.4078, 0.3804, 0.3529,  ..., 0.3451, 0.3490, 0.3412]],\n",
       "\n",
       "        [[0.1961, 0.1882, 0.1922,  ..., 0.3098, 0.2980, 0.6431],\n",
       "         [0.1922, 0.2000, 0.2510,  ..., 0.6627, 0.6510, 0.7412],\n",
       "         [0.2392, 0.2824, 0.3294,  ..., 0.6667, 0.6392, 0.6471],\n",
       "         ...,\n",
       "         [0.3255, 0.3255, 0.3333,  ..., 0.2980, 0.2824, 0.2863],\n",
       "         [0.3294, 0.3255, 0.3137,  ..., 0.2980, 0.2980, 0.2902],\n",
       "         [0.3333, 0.3137, 0.2902,  ..., 0.2824, 0.2863, 0.2824]]])"
      ]
     },
     "execution_count": 105,
     "metadata": {},
     "output_type": "execute_result"
    }
   ],
   "source": [
    "data[0][0]"
   ]
  },
  {
   "cell_type": "code",
   "execution_count": 122,
   "metadata": {},
   "outputs": [
    {
     "data": {
      "text/plain": [
       "torch.Size([1, 64, 64, 32005])"
      ]
     },
     "execution_count": 122,
     "metadata": {},
     "output_type": "execute_result"
    }
   ],
   "source": [
    "torch.nn.functional.one_hot(data[0][1].to(torch.int64)).shape"
   ]
  },
  {
   "cell_type": "code",
   "execution_count": 33,
   "metadata": {},
   "outputs": [],
   "source": [
    "y = torch.softmax(data[0][1], dim=1)"
   ]
  },
  {
   "cell_type": "code",
   "execution_count": 34,
   "metadata": {},
   "outputs": [
    {
     "data": {
      "text/plain": [
       "tensor([[[0.0155, 0.0154, 0.0154,  ..., 0.0157, 0.0158, 0.0157],\n",
       "         [0.0156, 0.0156, 0.0156,  ..., 0.0159, 0.0160, 0.0159],\n",
       "         [0.0156, 0.0156, 0.0156,  ..., 0.0159, 0.0160, 0.0159],\n",
       "         ...,\n",
       "         [0.0153, 0.0153, 0.0153,  ..., 0.0151, 0.0152, 0.0152],\n",
       "         [0.0153, 0.0153, 0.0153,  ..., 0.0151, 0.0152, 0.0152],\n",
       "         [0.0153, 0.0153, 0.0153,  ..., 0.0150, 0.0152, 0.0152]]])"
      ]
     },
     "execution_count": 34,
     "metadata": {},
     "output_type": "execute_result"
    }
   ],
   "source": [
    "y"
   ]
  },
  {
   "cell_type": "code",
   "execution_count": null,
   "metadata": {},
   "outputs": [],
   "source": []
  }
 ],
 "metadata": {
  "kernelspec": {
   "display_name": "Python 3",
   "language": "python",
   "name": "python3"
  },
  "language_info": {
   "codemirror_mode": {
    "name": "ipython",
    "version": 3
   },
   "file_extension": ".py",
   "mimetype": "text/x-python",
   "name": "python",
   "nbconvert_exporter": "python",
   "pygments_lexer": "ipython3",
   "version": "3.7.4"
  }
 },
 "nbformat": 4,
 "nbformat_minor": 4
}
