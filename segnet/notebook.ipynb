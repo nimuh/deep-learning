{
 "cells": [
  {
   "cell_type": "code",
   "execution_count": 14,
   "metadata": {},
   "outputs": [],
   "source": [
    "from torchvision.datasets import Cityscapes\n",
    "from torchvision import transforms\n",
    "from PIL import Image\n",
    "import numpy as np"
   ]
  },
  {
   "cell_type": "code",
   "execution_count": 44,
   "metadata": {},
   "outputs": [],
   "source": [
    "in_t = transforms.Compose([\n",
    "        transforms.Resize((64, 64)),\n",
    "        #transforms.ToTensor(),\n",
    "        ])\n",
    "\n",
    "out_t = transforms.Compose([\n",
    "            #transforms.Resize((64, 64)),\n",
    "            transforms.ToTensor(),\n",
    "        ])\n",
    "\n",
    "data = Cityscapes(root='./data', target_type=['semantic'], transform=in_t, target_transform=out_t)"
   ]
  },
  {
   "cell_type": "code",
   "execution_count": 45,
   "metadata": {},
   "outputs": [
    {
     "data": {
      "text/plain": [
       "Dataset Cityscapes\n",
       "    Number of datapoints: 2975\n",
       "    Root location: ./data\n",
       "    Split: train\n",
       "    Mode: gtFine\n",
       "    Type: ['semantic']\n",
       "    StandardTransform\n",
       "Transform: Compose(\n",
       "               Resize(size=(64, 64), interpolation=PIL.Image.BILINEAR)\n",
       "           )\n",
       "Target transform: Compose(\n",
       "                      ToTensor()\n",
       "                  )"
      ]
     },
     "execution_count": 45,
     "metadata": {},
     "output_type": "execute_result"
    }
   ],
   "source": [
    "data"
   ]
  },
  {
   "cell_type": "code",
   "execution_count": 47,
   "metadata": {},
   "outputs": [
    {
     "data": {
      "text/plain": [
       "tensor([[[0.0118, 0.0118, 0.0118,  ..., 0.0118, 0.0118, 0.0118],\n",
       "         [0.0118, 0.0118, 0.0118,  ..., 0.0118, 0.0118, 0.0118],\n",
       "         [0.0118, 0.0118, 0.0118,  ..., 0.0118, 0.0118, 0.0118],\n",
       "         ...,\n",
       "         [0.0118, 0.0118, 0.0118,  ..., 0.0118, 0.0118, 0.0118],\n",
       "         [0.0118, 0.0118, 0.0118,  ..., 0.0118, 0.0118, 0.0118],\n",
       "         [0.0118, 0.0118, 0.0118,  ..., 0.0118, 0.0118, 0.0118]]])"
      ]
     },
     "execution_count": 47,
     "metadata": {},
     "output_type": "execute_result"
    }
   ],
   "source": [
    "data[0][1]"
   ]
  },
  {
   "cell_type": "code",
   "execution_count": 22,
   "metadata": {},
   "outputs": [
    {
     "ename": "AttributeError",
     "evalue": "'Image' object has no attribute 'cuda'",
     "output_type": "error",
     "traceback": [
      "\u001b[1;31m---------------------------------------------------------------------------\u001b[0m",
      "\u001b[1;31mAttributeError\u001b[0m                            Traceback (most recent call last)",
      "\u001b[1;32m<ipython-input-22-cfc5c1439030>\u001b[0m in \u001b[0;36m<module>\u001b[1;34m\u001b[0m\n\u001b[0;32m      1\u001b[0m \u001b[1;32mfor\u001b[0m \u001b[0mi\u001b[0m\u001b[1;33m,\u001b[0m \u001b[1;33m(\u001b[0m\u001b[0minputs\u001b[0m\u001b[1;33m,\u001b[0m \u001b[0mtargets\u001b[0m\u001b[1;33m)\u001b[0m \u001b[1;32min\u001b[0m \u001b[0menumerate\u001b[0m\u001b[1;33m(\u001b[0m\u001b[0mdata\u001b[0m\u001b[1;33m,\u001b[0m \u001b[1;36m0\u001b[0m\u001b[1;33m)\u001b[0m\u001b[1;33m:\u001b[0m\u001b[1;33m\u001b[0m\u001b[1;33m\u001b[0m\u001b[0m\n\u001b[1;32m----> 2\u001b[1;33m     \u001b[0mprint\u001b[0m\u001b[1;33m(\u001b[0m\u001b[0minputs\u001b[0m\u001b[1;33m.\u001b[0m\u001b[0mcuda\u001b[0m\u001b[1;33m(\u001b[0m\u001b[1;33m)\u001b[0m\u001b[1;33m)\u001b[0m\u001b[1;33m\u001b[0m\u001b[1;33m\u001b[0m\u001b[0m\n\u001b[0m\u001b[0;32m      3\u001b[0m     \u001b[0mprint\u001b[0m\u001b[1;33m(\u001b[0m\u001b[0mtargets\u001b[0m\u001b[1;33m.\u001b[0m\u001b[0mcuda\u001b[0m\u001b[1;33m(\u001b[0m\u001b[1;33m)\u001b[0m\u001b[1;33m)\u001b[0m\u001b[1;33m\u001b[0m\u001b[1;33m\u001b[0m\u001b[0m\n\u001b[0;32m      4\u001b[0m     \u001b[1;32mbreak\u001b[0m\u001b[1;33m\u001b[0m\u001b[1;33m\u001b[0m\u001b[0m\n",
      "\u001b[1;31mAttributeError\u001b[0m: 'Image' object has no attribute 'cuda'"
     ]
    }
   ],
   "source": [
    "for i, (inputs, targets) in enumerate(data, 0):\n",
    "    print(inputs.cuda())\n",
    "    print(targets.cuda())\n",
    "    break"
   ]
  },
  {
   "cell_type": "code",
   "execution_count": 33,
   "metadata": {},
   "outputs": [
    {
     "data": {
      "image/png": "[encoded data removed]",
      "text/plain": [
       "<PIL.Image.Image image mode=RGB size=64x64 at 0x221A57E83A0>"
      ]
     },
     "execution_count": 33,
     "metadata": {},
     "output_type": "execute_result"
    }
   ],
   "source": [
    "Image.fromarray(np.array(data[0][1])[:, :, :3])"
   ]
  },
  {
   "cell_type": "code",
   "execution_count": 34,
   "metadata": {},
   "outputs": [
    {
     "data": {
      "text/plain": [
       "array([[[ 62,  91, 116],\n",
       "        [ 58, 101, 136],\n",
       "        [ 54, 100, 138],\n",
       "        ...,\n",
       "        [ 55, 100, 134],\n",
       "        [ 74, 106,  58],\n",
       "        [ 74,  97,  24]],\n",
       "\n",
       "       [[ 81, 119, 151],\n",
       "        [ 76, 132, 178],\n",
       "        [ 70, 130, 180],\n",
       "        ...,\n",
       "        [ 78, 133, 149],\n",
       "        [101, 140,  60],\n",
       "        [ 96, 127,  31]],\n",
       "\n",
       "       [[ 82, 115, 143],\n",
       "        [ 77, 122, 159],\n",
       "        [ 70, 124, 168],\n",
       "        ...,\n",
       "        [ 81, 134, 137],\n",
       "        [106, 142,  40],\n",
       "        [ 96, 127,  31]],\n",
       "\n",
       "       ...,\n",
       "\n",
       "       [[112,  56, 112],\n",
       "        [128,  64, 128],\n",
       "        [128,  64, 128],\n",
       "        ...,\n",
       "        [128,  64, 128],\n",
       "        [128,  64, 128],\n",
       "        [115,  57, 115]],\n",
       "\n",
       "       [[112,  56, 112],\n",
       "        [128,  64, 128],\n",
       "        [128,  64, 128],\n",
       "        ...,\n",
       "        [126,  63, 126],\n",
       "        [128,  64, 128],\n",
       "        [115,  57, 115]],\n",
       "\n",
       "       [[ 86,  43,  86],\n",
       "        [ 98,  49,  98],\n",
       "        [ 98,  49,  98],\n",
       "        ...,\n",
       "        [ 58,  29,  58],\n",
       "        [ 91,  45,  91],\n",
       "        [ 88,  44,  88]]], dtype=uint8)"
      ]
     },
     "execution_count": 34,
     "metadata": {},
     "output_type": "execute_result"
    }
   ],
   "source": [
    "np.array(data[0][1])[:, :, :3]"
   ]
  },
  {
   "cell_type": "code",
   "execution_count": null,
   "metadata": {},
   "outputs": [],
   "source": []
  }
 ],
 "metadata": {
  "kernelspec": {
   "display_name": "Python 3",
   "language": "python",
   "name": "python3"
  },
  "language_info": {
   "codemirror_mode": {
    "name": "ipython",
    "version": 3
   },
   "file_extension": ".py",
   "mimetype": "text/x-python",
   "name": "python",
   "nbconvert_exporter": "python",
   "pygments_lexer": "ipython3",
   "version": "3.8.3"
  }
 },
 "nbformat": 4,
 "nbformat_minor": 4
}
